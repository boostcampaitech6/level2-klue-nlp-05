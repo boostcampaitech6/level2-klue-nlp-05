{
 "cells": [
  {
   "cell_type": "code",
   "execution_count": 11,
   "metadata": {},
   "outputs": [
    {
     "name": "stdout",
     "output_type": "stream",
     "text": [
      "Namespace(config='1.2.8_config', model_dir='./klue_bert-base_Max-epoch:5_Batch-size:32')\n"
     ]
    },
    {
     "name": "stderr",
     "output_type": "stream",
     "text": [
      "Some weights of the model checkpoint at klue/bert-base were not used when initializing BertModel: ['cls.predictions.transform.LayerNorm.bias', 'cls.predictions.bias', 'cls.predictions.transform.LayerNorm.weight', 'cls.seq_relationship.bias', 'cls.predictions.transform.dense.bias', 'cls.predictions.decoder.weight', 'cls.seq_relationship.weight', 'cls.predictions.decoder.bias', 'cls.predictions.transform.dense.weight']\n",
      "- This IS expected if you are initializing BertModel from the checkpoint of a model trained on another task or with another architecture (e.g. initializing a BertForSequenceClassification model from a BertForPreTraining model).\n",
      "- This IS NOT expected if you are initializing BertModel from the checkpoint of a model that you expect to be exactly identical (initializing a BertForSequenceClassification model from a BertForSequenceClassification model).\n",
      "7765it [00:05, 1546.39it/s]\n"
     ]
    }
   ],
   "source": [
    "from transformers import AutoTokenizer,AutoConfig, AutoModelForSequenceClassification, Trainer, TrainingArguments\n",
    "from omegaconf import OmegaConf\n",
    "from torch.utils.data import DataLoader\n",
    "from dataset_utils import load_test_dataset, num_to_label\n",
    "from add_entity_token import *\n",
    "from train import set_seed\n",
    "from datasets import RE_Dataset\n",
    "from tqdm import tqdm\n",
    "import torch.nn.functional as F\n",
    "import pandas as pd\n",
    "import torch\n",
    "import numpy as np\n",
    "import argparse\n",
    "\n",
    "\n",
    "def inference(model, tokenized_sent, device):\n",
    "  \"\"\"\n",
    "    test dataset을 DataLoader로 만들어 준 후,\n",
    "    batch_size로 나눠 model이 예측 합니다.\n",
    "  \"\"\"\n",
    "  dataloader = DataLoader(tokenized_sent, batch_size=16, shuffle=False)\n",
    "  model.eval()\n",
    "  output_pred = []\n",
    "  output_prob = []\n",
    "  for i, data in enumerate(tqdm(dataloader)):\n",
    "    with torch.no_grad():\n",
    "      logits = model(\n",
    "          input_ids=data['input_ids'].to(device),\n",
    "          attention_mask=data['attention_mask'].to(device),\n",
    "          ss = data['ss'].to(device),\n",
    "          os = data['os'].to(device))\n",
    "      \n",
    "    prob = F.softmax(logits[0], dim=-1).detach().cpu().numpy()\n",
    "    logits = logits[0].detach().cpu().numpy()\n",
    "    result = np.argmax(logits, axis=-1)\n",
    "\n",
    "    output_pred.append(result)\n",
    "    output_prob.append(prob)\n",
    "  \n",
    "  return np.concatenate(output_pred).tolist(), np.concatenate(output_prob, axis=0).tolist()\n",
    "\n",
    "\n",
    "if __name__ == '__main__':\n",
    "  parser = argparse.ArgumentParser()\n",
    "  parser.add_argument(\"--config\", \"-c\", type=str, default=\"1.2.8_config\")\n",
    "  parser.add_argument('--model_dir', \"-m\", type=str, default=\"./klue_bert-base_Max-epoch:5_Batch-size:32\")\n",
    "\n",
    "  args, _ = parser.parse_known_args()\n",
    "  conf = OmegaConf.load(f\"./config/{args.config}.yaml\")\n",
    "  print(args)\n",
    "  \n",
    "  set_seed(42)\n",
    "  \"\"\"\n",
    "    주어진 dataset csv 파일과 같은 형태일 경우 inference 가능한 코드입니다.\n",
    "  \"\"\"\n",
    "  device = torch.device('cuda:0' if torch.cuda.is_available() else 'cpu')\n",
    "  # load tokenizer\n",
    "  Tokenizer_NAME = conf.model.model_name\n",
    "  tokenizer = AutoTokenizer.from_pretrained(Tokenizer_NAME)\n",
    "  new_tokens = ['[PER]', '[ORG]', '[DAT]', '[LOC]', '[POH]', '[NOH]']\n",
    "  tokenizer.add_tokens(new_tokens)\n",
    "\n",
    "  ## load my model\n",
    "  MODEL_NAME = conf.model.model_name # model dir.\n",
    "  model_config =  AutoConfig.from_pretrained(MODEL_NAME)\n",
    "  model = Custom_Model(conf, config=model_config)\n",
    "  model.encoder.resize_token_embeddings(len(tokenizer))\n",
    "  model.load_state_dict(torch.load(args.model_dir))\n",
    "  model.parameters\n",
    "  model.to(device)\n",
    "\n",
    "  ## load test datset\n",
    "  test_dataset_dir = conf.path.test_path\n",
    "\n",
    "  test_dataset = pd.read_csv(test_dataset_dir)\n",
    "  test_label = list(map(int,test_dataset['label'].values))\n",
    "  tokenized_test = Processor(conf, tokenizer).read(test_dataset)\n",
    "  Re_test_dataset = RE_Dataset(tokenized_test ,test_label)\n"
   ]
  },
  {
   "cell_type": "code",
   "execution_count": 4,
   "metadata": {},
   "outputs": [
    {
     "data": {
      "text/plain": [
       "{'input_ids': tensor([    2,  3625,  3749,  2210,    36,    14, 32001,    14,  5633,    36,\n",
       "            11,     7,    65, 32001,    65, 11428, 26648, 27967,     7,    11,\n",
       "           543,  1504,  3669,  2069,  4256,  2371,  2062,    18,     3,     0,\n",
       "             0,     0,     0,     0,     0,     0,     0,     0,     0,     0,\n",
       "             0,     0,     0,     0,     0,     0,     0,     0,     0,     0,\n",
       "             0,     0,     0,     0,     0,     0,     0,     0,     0,     0,\n",
       "             0,     0,     0,     0,     0,     0,     0,     0,     0,     0,\n",
       "             0,     0,     0,     0,     0,     0,     0,     0,     0,     0,\n",
       "             0,     0,     0,     0,     0,     0,     0,     0,     0,     0,\n",
       "             0,     0,     0,     0,     0,     0,     0,     0,     0,     0,\n",
       "             0,     0,     0,     0,     0,     0,     0,     0,     0,     0,\n",
       "             0,     0,     0,     0,     0,     0,     0,     0,     0,     0,\n",
       "             0,     0,     0,     0,     0,     0,     0,     0,     0,     0,\n",
       "             0,     0,     0,     0,     0,     0,     0,     0,     0,     0,\n",
       "             0,     0,     0,     0,     0,     0,     0,     0,     0,     0,\n",
       "             0,     0,     0,     0,     0,     0,     0,     0,     0,     0,\n",
       "             0,     0,     0,     0,     0,     0,     0,     0,     0,     0,\n",
       "             0,     0,     0,     0,     0,     0,     0,     0,     0,     0,\n",
       "             0,     0,     0,     0,     0,     0,     0,     0,     0,     0,\n",
       "             0,     0,     0,     0,     0,     0,     0,     0,     0,     0,\n",
       "             0,     0,     0,     0,     0,     0,     0,     0,     0,     0,\n",
       "             0,     0,     0,     0,     0,     0,     0,     0,     0,     0,\n",
       "             0,     0,     0,     0,     0,     0,     0,     0,     0,     0,\n",
       "             0,     0,     0]),\n",
       " 'attention_mask': tensor([1, 1, 1, 1, 1, 1, 1, 1, 1, 1, 1, 1, 1, 1, 1, 1, 1, 1, 1, 1, 1, 1, 1, 1,\n",
       "         1, 1, 1, 1, 1, 0, 0, 0, 0, 0, 0, 0, 0, 0, 0, 0, 0, 0, 0, 0, 0, 0, 0, 0,\n",
       "         0, 0, 0, 0, 0, 0, 0, 0, 0, 0, 0, 0, 0, 0, 0, 0, 0, 0, 0, 0, 0, 0, 0, 0,\n",
       "         0, 0, 0, 0, 0, 0, 0, 0, 0, 0, 0, 0, 0, 0, 0, 0, 0, 0, 0, 0, 0, 0, 0, 0,\n",
       "         0, 0, 0, 0, 0, 0, 0, 0, 0, 0, 0, 0, 0, 0, 0, 0, 0, 0, 0, 0, 0, 0, 0, 0,\n",
       "         0, 0, 0, 0, 0, 0, 0, 0, 0, 0, 0, 0, 0, 0, 0, 0, 0, 0, 0, 0, 0, 0, 0, 0,\n",
       "         0, 0, 0, 0, 0, 0, 0, 0, 0, 0, 0, 0, 0, 0, 0, 0, 0, 0, 0, 0, 0, 0, 0, 0,\n",
       "         0, 0, 0, 0, 0, 0, 0, 0, 0, 0, 0, 0, 0, 0, 0, 0, 0, 0, 0, 0, 0, 0, 0, 0,\n",
       "         0, 0, 0, 0, 0, 0, 0, 0, 0, 0, 0, 0, 0, 0, 0, 0, 0, 0, 0, 0, 0, 0, 0, 0,\n",
       "         0, 0, 0, 0, 0, 0, 0, 0, 0, 0, 0, 0, 0, 0, 0, 0, 0]),\n",
       " 'ss': tensor(4),\n",
       " 'os': tensor(11),\n",
       " 'labels': tensor(100)}"
      ]
     },
     "execution_count": 4,
     "metadata": {},
     "output_type": "execute_result"
    }
   ],
   "source": [
    "Re_test_dataset[0]"
   ]
  },
  {
   "cell_type": "code",
   "execution_count": 13,
   "metadata": {},
   "outputs": [
    {
     "name": "stderr",
     "output_type": "stream",
     "text": [
      "100%|██████████| 486/486 [00:16<00:00, 29.34it/s]\n"
     ]
    },
    {
     "name": "stdout",
     "output_type": "stream",
     "text": [
      "---- Finish! ----\n"
     ]
    }
   ],
   "source": [
    "\n",
    "  ## predict answer\n",
    "  pred_answer, output_prob = inference(model, Re_test_dataset, device) # model에서 class 추론\n",
    "  pred_answer = num_to_label(pred_answer) # 숫자로 된 class를 원래 문자열 라벨로 변환.\n",
    "  \n",
    "  ## make csv file with predicted answer\n",
    "  #########################################################\n",
    "  # 아래 directory와 columns의 형태는 지켜주시기 바랍니다.\n",
    "  output = pd.DataFrame({'id':test_dataset['id'],'pred_label':pred_answer,'probs':output_prob,})\n",
    "\n",
    "  output.to_csv('./prediction/submission.csv', index=False) # 최종적으로 완성된 예측한 라벨 csv 파일 형태로 저장.\n",
    "  #### 필수!! ##############################################\n",
    "  print('---- Finish! ----')\n",
    "  "
   ]
  },
  {
   "cell_type": "code",
   "execution_count": null,
   "metadata": {},
   "outputs": [],
   "source": []
  }
 ],
 "metadata": {
  "kernelspec": {
   "display_name": "base",
   "language": "python",
   "name": "python3"
  },
  "language_info": {
   "codemirror_mode": {
    "name": "ipython",
    "version": 3
   },
   "file_extension": ".py",
   "mimetype": "text/x-python",
   "name": "python",
   "nbconvert_exporter": "python",
   "pygments_lexer": "ipython3",
   "version": "3.8.5"
  }
 },
 "nbformat": 4,
 "nbformat_minor": 2
}
